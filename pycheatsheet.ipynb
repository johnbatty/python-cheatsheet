{
 "cells": [
  {
   "cell_type": "markdown",
   "metadata": {},
   "source": [
    "# Python cheatsheet"
   ]
  },
  {
   "cell_type": "markdown",
   "metadata": {},
   "source": [
    "## Types"
   ]
  },
  {
   "cell_type": "code",
   "execution_count": null,
   "metadata": {},
   "outputs": [],
   "source": [
    "a = 1 # int\n",
    "b = 1.0 # float\n",
    "c = \"Hello\" # str\n",
    "d = True # bool - True or False\n",
    "e = [1, 2, 3] # list\n",
    "f = None # Special type with only one value: None!"
   ]
  },
  {
   "cell_type": "markdown",
   "metadata": {},
   "source": [
    "## Converting between types"
   ]
  },
  {
   "cell_type": "code",
   "execution_count": null,
   "metadata": {},
   "outputs": [],
   "source": [
    "input_str = \"1234\"\n",
    "input_int = int(input_str)\n",
    "input_float = float(input_str)\n",
    "\n",
    "# Tip: Use the int() function to convert a string to an integer.\n",
    "# Tip: Use the float() function to convert a string to a float.\n",
    "# Tip: You can use type() to check the type of a variable.\n",
    "# Tip: You can use str() to convert a variable to a string."
   ]
  },
  {
   "cell_type": "markdown",
   "metadata": {},
   "source": [
    "## User input"
   ]
  },
  {
   "cell_type": "code",
   "execution_count": null,
   "metadata": {},
   "outputs": [],
   "source": [
    "name = input(\"Enter your name: \")\n",
    "\n",
    "# Tip: Use the input() function to get user input.\n",
    "# Tip: The input() function will always return a string, so you may need to convert it to an int or float."
   ]
  },
  {
   "cell_type": "markdown",
   "metadata": {},
   "source": [
    "## Conditional statements"
   ]
  },
  {
   "cell_type": "code",
   "execution_count": null,
   "metadata": {},
   "outputs": [],
   "source": [
    "input_name = \"henry\"\n",
    "\n",
    "# Use if to check a condition and do something if it is true.\n",
    "# Use else to do something if the condition is not true.\n",
    "# Use elif to check another condition if the first condition is not true.\n",
    "if input_name == \"henry\":\n",
    "    print(\"Hello Henry\")\n",
    "\n",
    "\n",
    "if input_name == \"henry\":\n",
    "    print(\"Hello Henry\")\n",
    "elif input_name == \"jane\":\n",
    "    print(\"Hello Jane\")\n",
    "else:\n",
    "    print(\"Hello Stranger\")\n",
    "\n",
    "# Tip: You only need the else if you want to do something if none of the conditions are met."
   ]
  },
  {
   "cell_type": "markdown",
   "metadata": {},
   "source": [
    "## Loops"
   ]
  },
  {
   "cell_type": "code",
   "execution_count": null,
   "metadata": {},
   "outputs": [],
   "source": [
    "# To loop over code multiple times, you can use a for loop or a while loop.\n",
    "\n",
    "days = [\"Monday\", \"Tuesday\", \"Wednesday\", \"Thursday\", \"Friday\", \"Saturday\", \"Sunday\"]\n",
    "\n",
    "# Very simple to use a for loop to iterate over a list\n",
    "for day in days:\n",
    "    print(day)\n",
    "\n",
    "# Use the range function to generate a range of numbers starting at 0,\n",
    "# up to but not including the number you pass in: [0, 1, 2, 3, 4, 5, 6, 7, 8, 9]\n",
    "for i in range(10):\n",
    "    print(i)\n",
    "\n",
    "# Tip: You can use a for loop to iterate over a list.\n",
    "# Tip: You can use the len() function to get the length of a list.\n",
    "\n",
    "# EXAMPLE: password checker\n",
    "\n",
    "# Create a list of lists where each inner list contains a username and password.\n",
    "user_passwords = [\n",
    "    [\"henry\", \"password123\"],\n",
    "    [\"bob\", \"password456\"],\n",
    "    [\"alice\", \"password789\"]\n",
    "]\n",
    "\n",
    "username = input(\"Enter your username: \")\n",
    "password = input(\"Enter your password: \")\n",
    "\n",
    "user = None\n",
    "for user_password in user_passwords:\n",
    "    if user_password[0] == username and user_password[1] == password:\n",
    "        user = user_password[0]\n",
    "        print(\"Login successful\")\n",
    "        break\n",
    "\n",
    "if user is None:\n",
    "    print(\"Login failed\")\n",
    "else:\n",
    "    print(\"Welcome \", user)\n",
    "\n",
    "# While loops\n",
    "# Use while loops to repeat a block of code while a condition is True.\n",
    "# Use the break statement to exit a loop early.\n",
    "# Use the continue statement to skip the rest of the code in the loop and start the next iteration.\n",
    "\n",
    "# EXAMPLE: password checker with while loop to keep asking for username and password until correct\n",
    "user = None\n",
    "while user is None:\n",
    "    username = input(\"Enter your username: \")\n",
    "    password = input(\"Enter your password: \")\n",
    "\n",
    "    for user_password in user_passwords:\n",
    "        if user_password[0] == username and user_password[1] == password:\n",
    "            user = user_password[0]\n",
    "            print(\"Login successful\")\n",
    "            break\n",
    "\n",
    "    if user is None:\n",
    "        print(\"Login failed - try again...\")\n",
    "\n",
    "print(\"Welcome \", user)\n",
    "\n",
    "# Tip: You can use a for loop to iterate over a list of lists.\n",
    "# Tip: You can use the break statement to exit a loop early.\n",
    "# Tip: You can use the is keyword to check if a variable is None.\n",
    "# Tip: You can use the and keyword to check if two conditions are both True.\n",
    "# Tip: You can use the or keyword to check if at least one of two conditions is True.\n",
    "# Tip: You can use the not keyword to check if a condition is False.\n",
    "# Tip: You can use a list of lists to store multiple pieces of information for each item."
   ]
  },
  {
   "cell_type": "markdown",
   "metadata": {},
   "source": [
    "## File operations"
   ]
  },
  {
   "cell_type": "code",
   "execution_count": null,
   "metadata": {},
   "outputs": [],
   "source": [
    "# Read a file to a string\n",
    "file_path = \"example.txt\"\n",
    "file = open(file_path)\n",
    "file_contents = file.read()\n",
    "\n",
    "# Write a string to a file\n",
    "file_path = \"example.txt\"\n",
    "# Must use \"w\" mode to open a file for writing!\n",
    "file = open(file_path, \"w\")\n",
    "file.write(\"Hello World\")\n",
    "\n",
    "# Tip: You can use the open() function to open a file.\n",
    "# Tip: You can use the read() method to read the contents of a file.\n",
    "# Tip: You can use the write() method to write to a file.\n",
    "# Tip: You must use the \"w\" mode to open a file for writing.\n",
    "\n",
    "# Process each line in a file\n",
    "file_path = \"example.txt\"\n",
    "file = open(file_path)\n",
    "for line in file:\n",
    "    print(line)\n"
   ]
  },
  {
   "cell_type": "markdown",
   "metadata": {},
   "source": [
    "## Formatting strings"
   ]
  },
  {
   "cell_type": "code",
   "execution_count": null,
   "metadata": {},
   "outputs": [],
   "source": [
    "first_name = \"Henry\"\n",
    "last_name = \"Smith\"\n",
    "\n",
    "# Simple concatenation can be used to combine strings.\n",
    "full_name = first_name + \" \" + last_name\n",
    "\n",
    "# Using the format() method.\n",
    "# This is more flexible and allows precise control over the output.\n",
    "full_name = \"{} {}\".format(first_name, last_name)\n",
    "\n",
    "# Formatting field width\n",
    "# This will pad the first name with spaces to make it 10 characters wide.\n",
    "full_name = \"{:10} {}\".format(first_name, last_name)\n",
    "\n",
    "# Formatting field width and alignment\n",
    "# This will right align the first name and left align the last name.\n",
    "full_name = \"{:>10} {:<10}\".format(first_name, last_name)\n",
    "\n",
    "# Formatting floating point numbers\n",
    "# This will round the number to 2 decimal places.\n",
    "pi = 3.14159265359\n",
    "formatted_pi = \"{:.2f}\".format(pi)\n"
   ]
  }
 ],
 "metadata": {
  "kernelspec": {
   "display_name": "Python 3",
   "language": "python",
   "name": "python3"
  },
  "language_info": {
   "codemirror_mode": {
    "name": "ipython",
    "version": 3
   },
   "file_extension": ".py",
   "mimetype": "text/x-python",
   "name": "python",
   "nbconvert_exporter": "python",
   "pygments_lexer": "ipython3",
   "version": "3.12.3"
  }
 },
 "nbformat": 4,
 "nbformat_minor": 2
}
